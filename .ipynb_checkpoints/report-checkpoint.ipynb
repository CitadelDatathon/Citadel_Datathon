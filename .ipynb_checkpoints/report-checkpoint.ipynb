{
 "cells": [
  {
   "cell_type": "markdown",
   "metadata": {},
   "source": [
    "# Final Report"
   ]
  },
  {
   "cell_type": "code",
   "execution_count": 1,
   "metadata": {},
   "outputs": [
    {
     "name": "stdout",
     "output_type": "stream",
     "text": [
      "report\n"
     ]
    }
   ],
   "source": [
    "print(\"report\")"
   ]
  },
  {
   "cell_type": "code",
   "execution_count": 3,
   "metadata": {},
   "outputs": [
    {
     "name": "stderr",
     "output_type": "stream",
     "text": [
      "Using TensorFlow backend.\n"
     ]
    },
    {
     "name": "stdout",
     "output_type": "stream",
     "text": [
      "[[  3.60270000e+04   5.00000000e-01   7.00000000e-01 ...,   1.23190000e+04\n",
      "    2.59770000e+04   6.66440000e+04]\n",
      " [  6.06500000e+03   7.50000000e-01   3.20000000e+00 ...,   1.63460000e+04\n",
      "    2.17100000e+04   6.41580000e+04]\n",
      " [  4.20790000e+04   7.50000000e-01   7.00000000e-01 ...,   1.35020000e+04\n",
      "    2.22720000e+04   5.21560000e+04]\n",
      " ..., \n",
      " [  4.20210000e+04   1.00000000e-01   7.00000000e-01 ...,   1.13320000e+04\n",
      "    2.14840000e+04   4.67600000e+04]\n",
      " [  4.20270000e+04   1.00000000e-01   5.00000000e-01 ...,   1.20250000e+04\n",
      "    2.17910000e+04   4.87310000e+04]\n",
      " [  2.12270000e+04   5.00000000e-01   5.00000000e+00 ...,   1.21560000e+04\n",
      "    1.92740000e+04   4.14500000e+04]]\n",
      "[[ 0.46182861 -0.21997535 -0.30131383 ..., -0.54252738  0.76214464\n",
      "   1.09263499]\n",
      " [-1.59175401 -0.15924512  0.5754385  ...,  0.85406887 -0.55873348\n",
      "   0.87084531]\n",
      " [ 0.8766301  -0.15924512 -0.30131383 ..., -0.13225339 -0.38476265\n",
      "  -0.19991885]\n",
      " ..., \n",
      " [ 0.8726548  -0.31714372 -0.30131383 ..., -0.88482698 -0.62869327\n",
      "  -0.68132557]\n",
      " [ 0.87306604 -0.31714372 -0.37145402 ..., -0.64448896 -0.53365939\n",
      "  -0.50548186]\n",
      " [-0.55255704 -0.21997535  1.20670017 ..., -0.5990571  -1.31281341\n",
      "  -1.15505976]]\n",
      "\n",
      "....................................................................................................\n",
      "....................................................................................................\n",
      "....................................................................................................\n",
      "....................................................................................................\n",
      "...................................................................................................._________________________________________________________________\n",
      "Layer (type)                 Output Shape              Param #   \n",
      "=================================================================\n",
      "dense_1 (Dense)              (None, 48)                2352      \n",
      "_________________________________________________________________\n",
      "dense_2 (Dense)              (None, 48)                2352      \n",
      "_________________________________________________________________\n",
      "dense_3 (Dense)              (None, 6)                 294       \n",
      "=================================================================\n",
      "Total params: 4,998\n",
      "Trainable params: 4,998\n",
      "Non-trainable params: 0\n",
      "_________________________________________________________________\n"
     ]
    },
    {
     "data": {
      "text/plain": [
       "<matplotlib.figure.Figure at 0x130b8c3a668>"
      ]
     },
     "metadata": {},
     "output_type": "display_data"
    },
    {
     "data": {
      "text/plain": [
       "<matplotlib.figure.Figure at 0x130ba5694e0>"
      ]
     },
     "metadata": {},
     "output_type": "display_data"
    },
    {
     "data": {
      "text/plain": [
       "<matplotlib.figure.Figure at 0x130ba60ebe0>"
      ]
     },
     "metadata": {},
     "output_type": "display_data"
    }
   ],
   "source": [
    "import json\n",
    "from numpy import array\n",
    "import tensorflow as tf\n",
    "import keras\n",
    "import numpy as np\n",
    "import matplotlib.pyplot as plt\n",
    "\n",
    "with open('chem_2.json') as f:\n",
    "    chem_data = json.load(f)\n",
    "\n",
    "with open('drought.json') as f:\n",
    "    drought_data = json.load(f)\n",
    "\n",
    "with open('industry_occupation.json') as f:\n",
    "    indus_data = json.load(f)\n",
    "\n",
    "with open('earnings.json') as f:\n",
    "    earning_data = json.load(f)\n",
    "\n",
    "\n",
    "\n",
    "train_data = []\n",
    "train_labels = []\n",
    "\n",
    "test_data = []\n",
    "test_labels = []\n",
    "\n",
    "for fip in drought_data:\n",
    "    for year in drought_data:\n",
    "        if fip not in chem_data or year not in chem_data[fip]:\n",
    "            continue\n",
    "        if fip not in indus_data or year not in indus_data[fip]:\n",
    "            continue\n",
    "        if fip not in earning_data or year not in earning_data[fip]:\n",
    "            continue\n",
    "\n",
    "        data = []\n",
    "        data.append(int(fip))\n",
    "        data.extend(chem_data[fip][year])\n",
    "\n",
    "        for data123 in indus_data[fip][year]:\n",
    "            data.append(int(data123))\n",
    "\n",
    "        for data123 in earning_data[fip][year]:\n",
    "            if isinstance(data123, str):\n",
    "                data123  = data123.replace('+', '').replace(',', '').replace('-', '')\n",
    "            data.append(int(data123))\n",
    "\n",
    "        label = drought_data[fip][year]\n",
    "\n",
    "        if int(year) < 2015:\n",
    "            train_data.append(data)\n",
    "            train_labels.append(label)\n",
    "        else:\n",
    "            test_data.append(data)\n",
    "            test_labels.append(label)\n",
    "\n",
    "train_data = array(train_data)\n",
    "train_labels = array(train_labels)\n",
    "\n",
    "test_data = array(test_data)\n",
    "test_labels = array(test_labels)\n",
    "\n",
    "print(test_data)\n",
    "\n",
    "mean = train_data.mean(axis=0)\n",
    "std = train_data.std(axis=0)\n",
    "\n",
    "train_data = (train_data - mean) / std\n",
    "test_data = (test_data - mean) / std\n",
    "\n",
    "print(test_data)\n",
    "#print(train_data)\n",
    "#print(test_data)\n",
    "\n",
    "def get_length(map_data):\n",
    "    for fip in map_data:\n",
    "        for year in map_data[fip]:\n",
    "            return len(map_data[fip][year])\n",
    "\n",
    "dim = 1 + get_length(indus_data) + get_length(earning_data) + get_length(chem_data)\n",
    "\n",
    "def build_model():\n",
    "    model = keras.Sequential([\n",
    "    keras.layers.Dense(dim , activation=tf.nn.relu,\n",
    "                       input_shape=(train_data.shape[1],)),\n",
    "    keras.layers.Dense(dim, activation=tf.nn.relu),\n",
    "    keras.layers.Dense(6)\n",
    "    ])\n",
    "    optimizer = tf.train.RMSPropOptimizer(0.001)\n",
    "    model.compile(loss='mse',\n",
    "                optimizer=optimizer,\n",
    "                metrics=['mae'])\n",
    "    return model\n",
    "\n",
    "model = build_model()\n",
    "EPOCHS = 500\n",
    "\n",
    "early_stop = keras.callbacks.EarlyStopping(monitor='val_loss', patience=20)\n",
    "class PrintDot(keras.callbacks.Callback):\n",
    "    def on_epoch_end(self, epoch, logs):\n",
    "        if epoch % 100 == 0: print('')\n",
    "        print('.', end='')\n",
    "\n",
    "history = model.fit(train_data, train_labels, epochs=EPOCHS,\n",
    "                    validation_split=0.2, verbose=0,\n",
    "                    callbacks=[early_stop, PrintDot()])\n",
    "\n",
    "\n",
    "model.summary()\n",
    "\n",
    "def plot_history(history):\n",
    "    plt.figure()\n",
    "    plt.xlabel('Epoch')\n",
    "    plt.ylabel('Mean Abs Error [1000$]')\n",
    "    plt.plot(history.epoch, np.array(history.history['mean_absolute_error']),\n",
    "           label='Train Loss')\n",
    "    plt.plot(history.epoch, np.array(history.history['val_mean_absolute_error']),\n",
    "           label = 'Val loss')\n",
    "    plt.legend()\n",
    "    plt.show()\n",
    "\n",
    "plot_history(history)\n",
    "\n",
    "\n",
    "\n",
    "\n",
    "test_predictions = model.predict(test_data).flatten()\n",
    "plt.scatter(test_labels, test_predictions)\n",
    "plt.xlabel('True Values [1000$]')\n",
    "plt.ylabel('Predictions [1000$]')\n",
    "plt.axis('equal')\n",
    "plt.xlim(plt.xlim())\n",
    "plt.ylim(plt.ylim())\n",
    "plt.plot([-100, 100], [-100, 100])\n",
    "plt.show()\n",
    "\n",
    "\n",
    "error = test_predictions - test_labels.flatten()\n",
    "plt.hist(error, bins = 50)\n",
    "plt.xlabel(\"Prediction Error [1000$]\")\n",
    "plt.ylabel(\"Count\")\n",
    "plt.show()"
   ]
  },
  {
   "cell_type": "code",
   "execution_count": null,
   "metadata": {},
   "outputs": [],
   "source": []
  }
 ],
 "metadata": {
  "kernelspec": {
   "display_name": "Python 3",
   "language": "python",
   "name": "python3"
  },
  "language_info": {
   "codemirror_mode": {
    "name": "ipython",
    "version": 3
   },
   "file_extension": ".py",
   "mimetype": "text/x-python",
   "name": "python",
   "nbconvert_exporter": "python",
   "pygments_lexer": "ipython3",
   "version": "3.5.2"
  },
  "widgets": {
   "state": {},
   "version": "1.1.2"
  }
 },
 "nbformat": 4,
 "nbformat_minor": 2
}
